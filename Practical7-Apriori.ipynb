{
 "cells": [
  {
   "cell_type": "code",
   "execution_count": 2,
   "id": "6e8cf36c",
   "metadata": {},
   "outputs": [],
   "source": [
    "from apyori import apriori\n",
    "import pandas as pd "
   ]
  },
  {
   "cell_type": "code",
   "execution_count": 9,
   "id": "7c10b630",
   "metadata": {},
   "outputs": [],
   "source": [
    "data=pd.read_csv(\"Day1.csv\",header=None)"
   ]
  },
  {
   "cell_type": "code",
   "execution_count": 10,
   "id": "120a649b",
   "metadata": {},
   "outputs": [
    {
     "data": {
      "text/html": [
       "<div>\n",
       "<style scoped>\n",
       "    .dataframe tbody tr th:only-of-type {\n",
       "        vertical-align: middle;\n",
       "    }\n",
       "\n",
       "    .dataframe tbody tr th {\n",
       "        vertical-align: top;\n",
       "    }\n",
       "\n",
       "    .dataframe thead th {\n",
       "        text-align: right;\n",
       "    }\n",
       "</style>\n",
       "<table border=\"1\" class=\"dataframe\">\n",
       "  <thead>\n",
       "    <tr style=\"text-align: right;\">\n",
       "      <th></th>\n",
       "      <th>0</th>\n",
       "      <th>1</th>\n",
       "      <th>2</th>\n",
       "      <th>3</th>\n",
       "      <th>4</th>\n",
       "      <th>5</th>\n",
       "    </tr>\n",
       "  </thead>\n",
       "  <tbody>\n",
       "    <tr>\n",
       "      <th>0</th>\n",
       "      <td>Wine</td>\n",
       "      <td>Chips</td>\n",
       "      <td>Bread</td>\n",
       "      <td>Butter</td>\n",
       "      <td>Milk</td>\n",
       "      <td>Apple</td>\n",
       "    </tr>\n",
       "    <tr>\n",
       "      <th>1</th>\n",
       "      <td>Wine</td>\n",
       "      <td>NaN</td>\n",
       "      <td>Bread</td>\n",
       "      <td>Butter</td>\n",
       "      <td>Milk</td>\n",
       "      <td>NaN</td>\n",
       "    </tr>\n",
       "    <tr>\n",
       "      <th>2</th>\n",
       "      <td>NaN</td>\n",
       "      <td>NaN</td>\n",
       "      <td>Bread</td>\n",
       "      <td>Butter</td>\n",
       "      <td>Milk</td>\n",
       "      <td>NaN</td>\n",
       "    </tr>\n",
       "    <tr>\n",
       "      <th>3</th>\n",
       "      <td>NaN</td>\n",
       "      <td>Chips</td>\n",
       "      <td>NaN</td>\n",
       "      <td>NaN</td>\n",
       "      <td>NaN</td>\n",
       "      <td>Apple</td>\n",
       "    </tr>\n",
       "    <tr>\n",
       "      <th>4</th>\n",
       "      <td>Wine</td>\n",
       "      <td>Chips</td>\n",
       "      <td>Bread</td>\n",
       "      <td>Butter</td>\n",
       "      <td>Milk</td>\n",
       "      <td>Apple</td>\n",
       "    </tr>\n",
       "  </tbody>\n",
       "</table>\n",
       "</div>"
      ],
      "text/plain": [
       "      0      1      2       3     4      5\n",
       "0  Wine  Chips  Bread  Butter  Milk  Apple\n",
       "1  Wine    NaN  Bread  Butter  Milk    NaN\n",
       "2   NaN    NaN  Bread  Butter  Milk    NaN\n",
       "3   NaN  Chips    NaN     NaN   NaN  Apple\n",
       "4  Wine  Chips  Bread  Butter  Milk  Apple"
      ]
     },
     "execution_count": 10,
     "metadata": {},
     "output_type": "execute_result"
    }
   ],
   "source": [
    "data.head()"
   ]
  },
  {
   "cell_type": "code",
   "execution_count": 11,
   "id": "f3d9b066",
   "metadata": {},
   "outputs": [
    {
     "data": {
      "text/plain": [
       "(22, 6)"
      ]
     },
     "execution_count": 11,
     "metadata": {},
     "output_type": "execute_result"
    }
   ],
   "source": [
    "data.shape"
   ]
  },
  {
   "cell_type": "code",
   "execution_count": 12,
   "id": "28392385",
   "metadata": {},
   "outputs": [],
   "source": [
    "records=[]\n",
    "for i in range(0,22):\n",
    "    records.append(   [  str(data.values[i,j]) for j in range(0,6)  ]      )"
   ]
  },
  {
   "cell_type": "code",
   "execution_count": 13,
   "id": "90c40a13",
   "metadata": {},
   "outputs": [
    {
     "data": {
      "text/plain": [
       "[['Wine', 'Chips', 'Bread', 'Butter', 'Milk', 'Apple'],\n",
       " ['Wine', 'nan', 'Bread', 'Butter', 'Milk', 'nan'],\n",
       " ['nan', 'nan', 'Bread', 'Butter', 'Milk', 'nan'],\n",
       " ['nan', 'Chips', 'nan', 'nan', 'nan', 'Apple'],\n",
       " ['Wine', 'Chips', 'Bread', 'Butter', 'Milk', 'Apple'],\n",
       " ['Wine', 'Chips', 'nan', 'nan', 'Milk', 'nan'],\n",
       " ['Wine', 'Chips', 'Bread', 'Butter', 'nan', 'Apple'],\n",
       " ['Wine', 'Chips', 'nan', 'nan', 'Milk', 'nan'],\n",
       " ['Wine', 'nan', 'Bread', 'nan', 'nan', 'Apple'],\n",
       " ['Wine', 'nan', 'Bread', 'Butter', 'Milk', 'nan'],\n",
       " ['nan', 'Chips', 'Bread', 'Butter', 'nan', 'Apple'],\n",
       " ['Wine', 'nan', 'nan', 'Butter', 'Milk', 'Apple'],\n",
       " ['Wine', 'Chips', 'Bread', 'Butter', 'Milk', 'nan'],\n",
       " ['Wine', 'nan', 'Bread', 'nan', 'Milk', 'Apple'],\n",
       " ['Wine', 'nan', 'Bread', 'Butter', 'Milk', 'Apple'],\n",
       " ['Wine', 'Chips', 'Bread', 'Butter', 'Milk', 'Apple'],\n",
       " ['nan', 'Chips', 'Bread', 'Butter', 'Milk', 'Apple'],\n",
       " ['nan', 'Chips', 'nan', 'Butter', 'Milk', 'Apple'],\n",
       " ['Wine', 'Chips', 'Bread', 'Butter', 'Milk', 'Apple'],\n",
       " ['Wine', 'nan', 'Bread', 'Butter', 'Milk', 'Apple'],\n",
       " ['Wine', 'Chips', 'Bread', 'nan', 'Milk', 'Apple'],\n",
       " ['nan', 'Chips', 'nan', 'nan', 'nan', 'nan']]"
      ]
     },
     "execution_count": 13,
     "metadata": {},
     "output_type": "execute_result"
    }
   ],
   "source": [
    "records"
   ]
  },
  {
   "cell_type": "code",
   "execution_count": 14,
   "id": "eabe31fc",
   "metadata": {},
   "outputs": [],
   "source": [
    "association_rule=apriori(records,min_support=0.05,min_confidence=0.07,min_lift=1.2,min_length=2)\n"
   ]
  },
  {
   "cell_type": "code",
   "execution_count": 15,
   "id": "cbdb93c8",
   "metadata": {},
   "outputs": [
    {
     "name": "stdout",
     "output_type": "stream",
     "text": [
      "[RelationRecord(items=frozenset({'Apple', 'Bread', 'Chips'}), support=0.36363636363636365, ordered_statistics=[OrderedStatistic(items_base=frozenset({'Apple'}), items_add=frozenset({'Bread', 'Chips'}), confidence=0.5333333333333334, lift=1.3037037037037038), OrderedStatistic(items_base=frozenset({'Bread', 'Chips'}), items_add=frozenset({'Apple'}), confidence=0.8888888888888888, lift=1.3037037037037038)]), RelationRecord(items=frozenset({'Apple', 'Wine', 'Bread'}), support=0.45454545454545453, ordered_statistics=[OrderedStatistic(items_base=frozenset({'Bread'}), items_add=frozenset({'Apple', 'Wine'}), confidence=0.625, lift=1.25), OrderedStatistic(items_base=frozenset({'Apple', 'Wine'}), items_add=frozenset({'Bread'}), confidence=0.9090909090909091, lift=1.25)]), RelationRecord(items=frozenset({'Apple', 'Chips', 'Butter'}), support=0.36363636363636365, ordered_statistics=[OrderedStatistic(items_base=frozenset({'Apple'}), items_add=frozenset({'Butter', 'Chips'}), confidence=0.5333333333333334, lift=1.3037037037037038), OrderedStatistic(items_base=frozenset({'Butter', 'Chips'}), items_add=frozenset({'Apple'}), confidence=0.8888888888888888, lift=1.3037037037037038)]), RelationRecord(items=frozenset({'Apple', 'Butter', 'Milk'}), support=0.4090909090909091, ordered_statistics=[OrderedStatistic(items_base=frozenset({'Butter'}), items_add=frozenset({'Apple', 'Milk'}), confidence=0.6000000000000001, lift=1.2000000000000002), OrderedStatistic(items_base=frozenset({'Apple', 'Milk'}), items_add=frozenset({'Butter'}), confidence=0.8181818181818182, lift=1.2000000000000002)]), RelationRecord(items=frozenset({'Butter', 'Bread', 'Chips'}), support=0.36363636363636365, ordered_statistics=[OrderedStatistic(items_base=frozenset({'Bread'}), items_add=frozenset({'Butter', 'Chips'}), confidence=0.5, lift=1.222222222222222), OrderedStatistic(items_base=frozenset({'Butter'}), items_add=frozenset({'Bread', 'Chips'}), confidence=0.5333333333333334, lift=1.3037037037037038), OrderedStatistic(items_base=frozenset({'Bread', 'Chips'}), items_add=frozenset({'Butter'}), confidence=0.8888888888888888, lift=1.3037037037037038), OrderedStatistic(items_base=frozenset({'Butter', 'Chips'}), items_add=frozenset({'Bread'}), confidence=0.8888888888888888, lift=1.222222222222222)]), RelationRecord(items=frozenset({'Butter', 'Bread', 'Milk'}), support=0.5, ordered_statistics=[OrderedStatistic(items_base=frozenset({'Butter'}), items_add=frozenset({'Bread', 'Milk'}), confidence=0.7333333333333334, lift=1.241025641025641), OrderedStatistic(items_base=frozenset({'Bread', 'Milk'}), items_add=frozenset({'Butter'}), confidence=0.8461538461538461, lift=1.241025641025641)]), RelationRecord(items=frozenset({'Butter', 'Wine', 'Bread'}), support=0.45454545454545453, ordered_statistics=[OrderedStatistic(items_base=frozenset({'Bread'}), items_add=frozenset({'Butter', 'Wine'}), confidence=0.625, lift=1.25), OrderedStatistic(items_base=frozenset({'Butter', 'Wine'}), items_add=frozenset({'Bread'}), confidence=0.9090909090909091, lift=1.25)]), RelationRecord(items=frozenset({'Apple', 'Bread', 'Butter', 'Chips'}), support=0.3181818181818182, ordered_statistics=[OrderedStatistic(items_base=frozenset({'Apple'}), items_add=frozenset({'Butter', 'Bread', 'Chips'}), confidence=0.4666666666666667, lift=1.2833333333333332), OrderedStatistic(items_base=frozenset({'Bread'}), items_add=frozenset({'Apple', 'Chips', 'Butter'}), confidence=0.4375, lift=1.203125), OrderedStatistic(items_base=frozenset({'Butter'}), items_add=frozenset({'Apple', 'Bread', 'Chips'}), confidence=0.4666666666666667, lift=1.2833333333333332), OrderedStatistic(items_base=frozenset({'Chips'}), items_add=frozenset({'Apple', 'Bread', 'Butter'}), confidence=0.5, lift=1.222222222222222), OrderedStatistic(items_base=frozenset({'Apple', 'Bread'}), items_add=frozenset({'Butter', 'Chips'}), confidence=0.5833333333333334, lift=1.4259259259259258), OrderedStatistic(items_base=frozenset({'Apple', 'Butter'}), items_add=frozenset({'Bread', 'Chips'}), confidence=0.6363636363636364, lift=1.5555555555555554), OrderedStatistic(items_base=frozenset({'Bread', 'Chips'}), items_add=frozenset({'Apple', 'Butter'}), confidence=0.7777777777777777, lift=1.5555555555555554), OrderedStatistic(items_base=frozenset({'Butter', 'Chips'}), items_add=frozenset({'Apple', 'Bread'}), confidence=0.7777777777777777, lift=1.4259259259259258), OrderedStatistic(items_base=frozenset({'Apple', 'Bread', 'Butter'}), items_add=frozenset({'Chips'}), confidence=0.7777777777777777, lift=1.222222222222222), OrderedStatistic(items_base=frozenset({'Apple', 'Bread', 'Chips'}), items_add=frozenset({'Butter'}), confidence=0.875, lift=1.2833333333333334), OrderedStatistic(items_base=frozenset({'Apple', 'Chips', 'Butter'}), items_add=frozenset({'Bread'}), confidence=0.875, lift=1.203125), OrderedStatistic(items_base=frozenset({'Butter', 'Bread', 'Chips'}), items_add=frozenset({'Apple'}), confidence=0.875, lift=1.2833333333333334)]), RelationRecord(items=frozenset({'Apple', 'Wine', 'Bread', 'Butter'}), support=0.3181818181818182, ordered_statistics=[OrderedStatistic(items_base=frozenset({'Bread'}), items_add=frozenset({'Apple', 'Wine', 'Butter'}), confidence=0.4375, lift=1.203125), OrderedStatistic(items_base=frozenset({'Apple', 'Wine', 'Butter'}), items_add=frozenset({'Bread'}), confidence=0.875, lift=1.203125)]), RelationRecord(items=frozenset({'Apple', 'Bread', 'Milk', 'Chips'}), support=0.2727272727272727, ordered_statistics=[OrderedStatistic(items_base=frozenset({'Apple'}), items_add=frozenset({'Bread', 'Milk', 'Chips'}), confidence=0.4, lift=1.2571428571428573), OrderedStatistic(items_base=frozenset({'Apple', 'Milk'}), items_add=frozenset({'Bread', 'Chips'}), confidence=0.5454545454545454, lift=1.3333333333333333), OrderedStatistic(items_base=frozenset({'Bread', 'Chips'}), items_add=frozenset({'Apple', 'Milk'}), confidence=0.6666666666666666, lift=1.3333333333333333), OrderedStatistic(items_base=frozenset({'Bread', 'Milk', 'Chips'}), items_add=frozenset({'Apple'}), confidence=0.8571428571428571, lift=1.2571428571428571)]), RelationRecord(items=frozenset({'Apple', 'Wine', 'Bread', 'Chips'}), support=0.2727272727272727, ordered_statistics=[OrderedStatistic(items_base=frozenset({'Apple'}), items_add=frozenset({'Wine', 'Bread', 'Chips'}), confidence=0.4, lift=1.2571428571428573), OrderedStatistic(items_base=frozenset({'Bread'}), items_add=frozenset({'Apple', 'Wine', 'Chips'}), confidence=0.37499999999999994, lift=1.375), OrderedStatistic(items_base=frozenset({'Apple', 'Bread'}), items_add=frozenset({'Wine', 'Chips'}), confidence=0.5, lift=1.222222222222222), OrderedStatistic(items_base=frozenset({'Apple', 'Wine'}), items_add=frozenset({'Bread', 'Chips'}), confidence=0.5454545454545454, lift=1.3333333333333333), OrderedStatistic(items_base=frozenset({'Bread', 'Chips'}), items_add=frozenset({'Apple', 'Wine'}), confidence=0.6666666666666666, lift=1.3333333333333333), OrderedStatistic(items_base=frozenset({'Wine', 'Chips'}), items_add=frozenset({'Apple', 'Bread'}), confidence=0.6666666666666666, lift=1.2222222222222223), OrderedStatistic(items_base=frozenset({'Apple', 'Wine', 'Chips'}), items_add=frozenset({'Bread'}), confidence=1.0, lift=1.375), OrderedStatistic(items_base=frozenset({'Wine', 'Bread', 'Chips'}), items_add=frozenset({'Apple'}), confidence=0.8571428571428571, lift=1.2571428571428571)]), RelationRecord(items=frozenset({'Apple', 'Wine', 'Bread', 'Milk'}), support=0.36363636363636365, ordered_statistics=[OrderedStatistic(items_base=frozenset({'Bread'}), items_add=frozenset({'Apple', 'Wine', 'Milk'}), confidence=0.5, lift=1.222222222222222), OrderedStatistic(items_base=frozenset({'Wine'}), items_add=frozenset({'Apple', 'Bread', 'Milk'}), confidence=0.5, lift=1.222222222222222), OrderedStatistic(items_base=frozenset({'Apple', 'Milk'}), items_add=frozenset({'Wine', 'Bread'}), confidence=0.7272727272727273, lift=1.2307692307692308), OrderedStatistic(items_base=frozenset({'Apple', 'Wine'}), items_add=frozenset({'Bread', 'Milk'}), confidence=0.7272727272727273, lift=1.2307692307692308), OrderedStatistic(items_base=frozenset({'Bread', 'Milk'}), items_add=frozenset({'Apple', 'Wine'}), confidence=0.6153846153846154, lift=1.2307692307692308), OrderedStatistic(items_base=frozenset({'Wine', 'Bread'}), items_add=frozenset({'Apple', 'Milk'}), confidence=0.6153846153846154, lift=1.2307692307692308), OrderedStatistic(items_base=frozenset({'Apple', 'Bread', 'Milk'}), items_add=frozenset({'Wine'}), confidence=0.8888888888888888, lift=1.222222222222222), OrderedStatistic(items_base=frozenset({'Apple', 'Wine', 'Milk'}), items_add=frozenset({'Bread'}), confidence=0.8888888888888888, lift=1.222222222222222)]), RelationRecord(items=frozenset({'Apple', 'Chips', 'Butter', 'Milk'}), support=0.2727272727272727, ordered_statistics=[OrderedStatistic(items_base=frozenset({'Apple'}), items_add=frozenset({'Butter', 'Chips', 'Milk'}), confidence=0.4, lift=1.2571428571428573), OrderedStatistic(items_base=frozenset({'Butter'}), items_add=frozenset({'Apple', 'Chips', 'Milk'}), confidence=0.4, lift=1.2571428571428573), OrderedStatistic(items_base=frozenset({'Apple', 'Butter'}), items_add=frozenset({'Chips', 'Milk'}), confidence=0.5454545454545454, lift=1.2), OrderedStatistic(items_base=frozenset({'Apple', 'Milk'}), items_add=frozenset({'Butter', 'Chips'}), confidence=0.5454545454545454, lift=1.3333333333333333), OrderedStatistic(items_base=frozenset({'Butter', 'Chips'}), items_add=frozenset({'Apple', 'Milk'}), confidence=0.6666666666666666, lift=1.3333333333333333), OrderedStatistic(items_base=frozenset({'Chips', 'Milk'}), items_add=frozenset({'Apple', 'Butter'}), confidence=0.6, lift=1.2), OrderedStatistic(items_base=frozenset({'Apple', 'Chips', 'Milk'}), items_add=frozenset({'Butter'}), confidence=0.8571428571428571, lift=1.2571428571428571), OrderedStatistic(items_base=frozenset({'Butter', 'Chips', 'Milk'}), items_add=frozenset({'Apple'}), confidence=0.8571428571428571, lift=1.2571428571428571)]), RelationRecord(items=frozenset({'Apple', 'Wine', 'Chips', 'Butter'}), support=0.22727272727272727, ordered_statistics=[OrderedStatistic(items_base=frozenset({'Apple'}), items_add=frozenset({'Butter', 'Wine', 'Chips'}), confidence=0.33333333333333337, lift=1.2222222222222225), OrderedStatistic(items_base=frozenset({'Butter'}), items_add=frozenset({'Apple', 'Wine', 'Chips'}), confidence=0.33333333333333337, lift=1.2222222222222225), OrderedStatistic(items_base=frozenset({'Apple', 'Wine', 'Chips'}), items_add=frozenset({'Butter'}), confidence=0.8333333333333334, lift=1.2222222222222223), OrderedStatistic(items_base=frozenset({'Butter', 'Wine', 'Chips'}), items_add=frozenset({'Apple'}), confidence=0.8333333333333334, lift=1.2222222222222223)]), RelationRecord(items=frozenset({'Apple', 'Wine', 'Butter', 'Milk'}), support=0.3181818181818182, ordered_statistics=[OrderedStatistic(items_base=frozenset({'Apple', 'Milk'}), items_add=frozenset({'Butter', 'Wine'}), confidence=0.6363636363636364, lift=1.2727272727272727), OrderedStatistic(items_base=frozenset({'Butter', 'Wine'}), items_add=frozenset({'Apple', 'Milk'}), confidence=0.6363636363636364, lift=1.2727272727272727)]), RelationRecord(items=frozenset({'Butter', 'Bread', 'Milk', 'Chips'}), support=0.2727272727272727, ordered_statistics=[OrderedStatistic(items_base=frozenset({'Butter'}), items_add=frozenset({'Bread', 'Milk', 'Chips'}), confidence=0.4, lift=1.2571428571428573), OrderedStatistic(items_base=frozenset({'Bread', 'Milk', 'Chips'}), items_add=frozenset({'Butter'}), confidence=0.8571428571428571, lift=1.2571428571428571)]), RelationRecord(items=frozenset({'Butter', 'Wine', 'Bread', 'Chips'}), support=0.2727272727272727, ordered_statistics=[OrderedStatistic(items_base=frozenset({'Bread'}), items_add=frozenset({'Butter', 'Wine', 'Chips'}), confidence=0.37499999999999994, lift=1.375), OrderedStatistic(items_base=frozenset({'Butter'}), items_add=frozenset({'Wine', 'Bread', 'Chips'}), confidence=0.4, lift=1.2571428571428573), OrderedStatistic(items_base=frozenset({'Bread', 'Chips'}), items_add=frozenset({'Butter', 'Wine'}), confidence=0.6666666666666666, lift=1.3333333333333333), OrderedStatistic(items_base=frozenset({'Butter', 'Wine'}), items_add=frozenset({'Bread', 'Chips'}), confidence=0.5454545454545454, lift=1.3333333333333333), OrderedStatistic(items_base=frozenset({'Wine', 'Bread', 'Chips'}), items_add=frozenset({'Butter'}), confidence=0.8571428571428571, lift=1.2571428571428571), OrderedStatistic(items_base=frozenset({'Butter', 'Wine', 'Chips'}), items_add=frozenset({'Bread'}), confidence=1.0, lift=1.375)]), RelationRecord(items=frozenset({'Butter', 'Wine', 'Bread', 'Milk'}), support=0.4090909090909091, ordered_statistics=[OrderedStatistic(items_base=frozenset({'Bread'}), items_add=frozenset({'Butter', 'Wine', 'Milk'}), confidence=0.5625, lift=1.2375), OrderedStatistic(items_base=frozenset({'Butter'}), items_add=frozenset({'Wine', 'Bread', 'Milk'}), confidence=0.6000000000000001, lift=1.2000000000000002), OrderedStatistic(items_base=frozenset({'Bread', 'Milk'}), items_add=frozenset({'Butter', 'Wine'}), confidence=0.6923076923076923, lift=1.3846153846153846), OrderedStatistic(items_base=frozenset({'Butter', 'Wine'}), items_add=frozenset({'Bread', 'Milk'}), confidence=0.8181818181818182, lift=1.3846153846153846), OrderedStatistic(items_base=frozenset({'Wine', 'Bread', 'Milk'}), items_add=frozenset({'Butter'}), confidence=0.8181818181818182, lift=1.2000000000000002), OrderedStatistic(items_base=frozenset({'Butter', 'Wine', 'Milk'}), items_add=frozenset({'Bread'}), confidence=0.9000000000000001, lift=1.2375)]), RelationRecord(items=frozenset({'Apple', 'Bread', 'Butter', 'Milk', 'Chips'}), support=0.22727272727272727, ordered_statistics=[OrderedStatistic(items_base=frozenset({'Apple'}), items_add=frozenset({'Butter', 'Bread', 'Milk', 'Chips'}), confidence=0.33333333333333337, lift=1.2222222222222225), OrderedStatistic(items_base=frozenset({'Butter'}), items_add=frozenset({'Apple', 'Bread', 'Milk', 'Chips'}), confidence=0.33333333333333337, lift=1.2222222222222225), OrderedStatistic(items_base=frozenset({'Apple', 'Bread'}), items_add=frozenset({'Butter', 'Chips', 'Milk'}), confidence=0.4166666666666667, lift=1.3095238095238095), OrderedStatistic(items_base=frozenset({'Apple', 'Butter'}), items_add=frozenset({'Bread', 'Milk', 'Chips'}), confidence=0.45454545454545453, lift=1.4285714285714286), OrderedStatistic(items_base=frozenset({'Apple', 'Milk'}), items_add=frozenset({'Butter', 'Bread', 'Chips'}), confidence=0.45454545454545453, lift=1.25), OrderedStatistic(items_base=frozenset({'Butter', 'Bread'}), items_add=frozenset({'Apple', 'Chips', 'Milk'}), confidence=0.3846153846153846, lift=1.2087912087912087), OrderedStatistic(items_base=frozenset({'Bread', 'Chips'}), items_add=frozenset({'Apple', 'Butter', 'Milk'}), confidence=0.5555555555555555, lift=1.3580246913580245), OrderedStatistic(items_base=frozenset({'Butter', 'Chips'}), items_add=frozenset({'Apple', 'Bread', 'Milk'}), confidence=0.5555555555555555, lift=1.3580246913580245), OrderedStatistic(items_base=frozenset({'Chips', 'Milk'}), items_add=frozenset({'Apple', 'Bread', 'Butter'}), confidence=0.5, lift=1.222222222222222), OrderedStatistic(items_base=frozenset({'Apple', 'Bread', 'Butter'}), items_add=frozenset({'Chips', 'Milk'}), confidence=0.5555555555555555, lift=1.222222222222222), OrderedStatistic(items_base=frozenset({'Apple', 'Bread', 'Milk'}), items_add=frozenset({'Butter', 'Chips'}), confidence=0.5555555555555555, lift=1.3580246913580245), OrderedStatistic(items_base=frozenset({'Apple', 'Butter', 'Milk'}), items_add=frozenset({'Bread', 'Chips'}), confidence=0.5555555555555555, lift=1.3580246913580245), OrderedStatistic(items_base=frozenset({'Apple', 'Chips', 'Milk'}), items_add=frozenset({'Butter', 'Bread'}), confidence=0.7142857142857143, lift=1.2087912087912087), OrderedStatistic(items_base=frozenset({'Butter', 'Bread', 'Chips'}), items_add=frozenset({'Apple', 'Milk'}), confidence=0.625, lift=1.25), OrderedStatistic(items_base=frozenset({'Bread', 'Milk', 'Chips'}), items_add=frozenset({'Apple', 'Butter'}), confidence=0.7142857142857143, lift=1.4285714285714286), OrderedStatistic(items_base=frozenset({'Butter', 'Chips', 'Milk'}), items_add=frozenset({'Apple', 'Bread'}), confidence=0.7142857142857143, lift=1.3095238095238098), OrderedStatistic(items_base=frozenset({'Apple', 'Bread', 'Milk', 'Chips'}), items_add=frozenset({'Butter'}), confidence=0.8333333333333334, lift=1.2222222222222223), OrderedStatistic(items_base=frozenset({'Butter', 'Bread', 'Milk', 'Chips'}), items_add=frozenset({'Apple'}), confidence=0.8333333333333334, lift=1.2222222222222223)]), RelationRecord(items=frozenset({'Apple', 'Bread', 'Butter', 'Wine', 'Chips'}), support=0.22727272727272727, ordered_statistics=[OrderedStatistic(items_base=frozenset({'Apple'}), items_add=frozenset({'Butter', 'Wine', 'Bread', 'Chips'}), confidence=0.33333333333333337, lift=1.2222222222222225), OrderedStatistic(items_base=frozenset({'Bread'}), items_add=frozenset({'Apple', 'Wine', 'Chips', 'Butter'}), confidence=0.3125, lift=1.375), OrderedStatistic(items_base=frozenset({'Butter'}), items_add=frozenset({'Apple', 'Wine', 'Bread', 'Chips'}), confidence=0.33333333333333337, lift=1.2222222222222225), OrderedStatistic(items_base=frozenset({'Apple', 'Bread'}), items_add=frozenset({'Butter', 'Wine', 'Chips'}), confidence=0.4166666666666667, lift=1.527777777777778), OrderedStatistic(items_base=frozenset({'Apple', 'Butter'}), items_add=frozenset({'Wine', 'Bread', 'Chips'}), confidence=0.45454545454545453, lift=1.4285714285714286), OrderedStatistic(items_base=frozenset({'Apple', 'Wine'}), items_add=frozenset({'Butter', 'Bread', 'Chips'}), confidence=0.45454545454545453, lift=1.25), OrderedStatistic(items_base=frozenset({'Butter', 'Bread'}), items_add=frozenset({'Apple', 'Wine', 'Chips'}), confidence=0.3846153846153846, lift=1.4102564102564101), OrderedStatistic(items_base=frozenset({'Bread', 'Chips'}), items_add=frozenset({'Apple', 'Wine', 'Butter'}), confidence=0.5555555555555555, lift=1.5277777777777775), OrderedStatistic(items_base=frozenset({'Butter', 'Chips'}), items_add=frozenset({'Apple', 'Wine', 'Bread'}), confidence=0.5555555555555555, lift=1.222222222222222), OrderedStatistic(items_base=frozenset({'Butter', 'Wine'}), items_add=frozenset({'Apple', 'Bread', 'Chips'}), confidence=0.45454545454545453, lift=1.25), OrderedStatistic(items_base=frozenset({'Wine', 'Chips'}), items_add=frozenset({'Apple', 'Bread', 'Butter'}), confidence=0.5555555555555555, lift=1.3580246913580245), OrderedStatistic(items_base=frozenset({'Apple', 'Bread', 'Butter'}), items_add=frozenset({'Wine', 'Chips'}), confidence=0.5555555555555555, lift=1.3580246913580245), OrderedStatistic(items_base=frozenset({'Apple', 'Bread', 'Chips'}), items_add=frozenset({'Butter', 'Wine'}), confidence=0.625, lift=1.25), OrderedStatistic(items_base=frozenset({'Apple', 'Wine', 'Bread'}), items_add=frozenset({'Butter', 'Chips'}), confidence=0.5, lift=1.222222222222222), OrderedStatistic(items_base=frozenset({'Apple', 'Wine', 'Butter'}), items_add=frozenset({'Bread', 'Chips'}), confidence=0.625, lift=1.5277777777777777), OrderedStatistic(items_base=frozenset({'Apple', 'Wine', 'Chips'}), items_add=frozenset({'Butter', 'Bread'}), confidence=0.8333333333333334, lift=1.4102564102564104), OrderedStatistic(items_base=frozenset({'Butter', 'Bread', 'Chips'}), items_add=frozenset({'Apple', 'Wine'}), confidence=0.625, lift=1.25), OrderedStatistic(items_base=frozenset({'Wine', 'Bread', 'Chips'}), items_add=frozenset({'Apple', 'Butter'}), confidence=0.7142857142857143, lift=1.4285714285714286), OrderedStatistic(items_base=frozenset({'Butter', 'Wine', 'Chips'}), items_add=frozenset({'Apple', 'Bread'}), confidence=0.8333333333333334, lift=1.527777777777778), OrderedStatistic(items_base=frozenset({'Apple', 'Wine', 'Bread', 'Chips'}), items_add=frozenset({'Butter'}), confidence=0.8333333333333334, lift=1.2222222222222223), OrderedStatistic(items_base=frozenset({'Apple', 'Wine', 'Chips', 'Butter'}), items_add=frozenset({'Bread'}), confidence=1.0, lift=1.375), OrderedStatistic(items_base=frozenset({'Butter', 'Wine', 'Bread', 'Chips'}), items_add=frozenset({'Apple'}), confidence=0.8333333333333334, lift=1.2222222222222223)]), RelationRecord(items=frozenset({'Apple', 'Bread', 'nan', 'Butter', 'Chips'}), support=0.13636363636363635, ordered_statistics=[OrderedStatistic(items_base=frozenset({'Apple', 'Butter'}), items_add=frozenset({'Bread', 'nan', 'Chips'}), confidence=0.2727272727272727, lift=1.2), OrderedStatistic(items_base=frozenset({'Bread', 'nan', 'Chips'}), items_add=frozenset({'Apple', 'Butter'}), confidence=0.6, lift=1.2)]), RelationRecord(items=frozenset({'Apple', 'Bread', 'Butter', 'Milk', 'Wine'}), support=0.2727272727272727, ordered_statistics=[OrderedStatistic(items_base=frozenset({'Apple', 'Milk'}), items_add=frozenset({'Butter', 'Wine', 'Bread'}), confidence=0.5454545454545454, lift=1.2), OrderedStatistic(items_base=frozenset({'Bread', 'Milk'}), items_add=frozenset({'Apple', 'Wine', 'Butter'}), confidence=0.46153846153846145, lift=1.269230769230769), OrderedStatistic(items_base=frozenset({'Butter', 'Wine'}), items_add=frozenset({'Apple', 'Bread', 'Milk'}), confidence=0.5454545454545454, lift=1.3333333333333333), OrderedStatistic(items_base=frozenset({'Apple', 'Bread', 'Milk'}), items_add=frozenset({'Butter', 'Wine'}), confidence=0.6666666666666666, lift=1.3333333333333333), OrderedStatistic(items_base=frozenset({'Apple', 'Wine', 'Butter'}), items_add=frozenset({'Bread', 'Milk'}), confidence=0.7499999999999999, lift=1.269230769230769), OrderedStatistic(items_base=frozenset({'Butter', 'Wine', 'Bread'}), items_add=frozenset({'Apple', 'Milk'}), confidence=0.6, lift=1.2)]), RelationRecord(items=frozenset({'Apple', 'Bread', 'Milk', 'Wine', 'Chips'}), support=0.22727272727272727, ordered_statistics=[OrderedStatistic(items_base=frozenset({'Apple'}), items_add=frozenset({'Wine', 'Bread', 'Milk', 'Chips'}), confidence=0.33333333333333337, lift=1.2222222222222225), OrderedStatistic(items_base=frozenset({'Bread'}), items_add=frozenset({'Apple', 'Wine', 'Chips', 'Milk'}), confidence=0.3125, lift=1.375), OrderedStatistic(items_base=frozenset({'Apple', 'Milk'}), items_add=frozenset({'Wine', 'Bread', 'Chips'}), confidence=0.45454545454545453, lift=1.4285714285714286), OrderedStatistic(items_base=frozenset({'Apple', 'Wine'}), items_add=frozenset({'Bread', 'Milk', 'Chips'}), confidence=0.45454545454545453, lift=1.4285714285714286), OrderedStatistic(items_base=frozenset({'Bread', 'Chips'}), items_add=frozenset({'Apple', 'Wine', 'Milk'}), confidence=0.5555555555555555, lift=1.3580246913580245), OrderedStatistic(items_base=frozenset({'Bread', 'Milk'}), items_add=frozenset({'Apple', 'Wine', 'Chips'}), confidence=0.3846153846153846, lift=1.4102564102564101), OrderedStatistic(items_base=frozenset({'Wine', 'Bread'}), items_add=frozenset({'Apple', 'Chips', 'Milk'}), confidence=0.3846153846153846, lift=1.2087912087912087), OrderedStatistic(items_base=frozenset({'Wine', 'Chips'}), items_add=frozenset({'Apple', 'Bread', 'Milk'}), confidence=0.5555555555555555, lift=1.3580246913580245), OrderedStatistic(items_base=frozenset({'Apple', 'Bread', 'Milk'}), items_add=frozenset({'Wine', 'Chips'}), confidence=0.5555555555555555, lift=1.3580246913580245), OrderedStatistic(items_base=frozenset({'Apple', 'Chips', 'Milk'}), items_add=frozenset({'Wine', 'Bread'}), confidence=0.7142857142857143, lift=1.2087912087912087), OrderedStatistic(items_base=frozenset({'Apple', 'Wine', 'Chips'}), items_add=frozenset({'Bread', 'Milk'}), confidence=0.8333333333333334, lift=1.4102564102564104), OrderedStatistic(items_base=frozenset({'Apple', 'Wine', 'Milk'}), items_add=frozenset({'Bread', 'Chips'}), confidence=0.5555555555555555, lift=1.3580246913580245), OrderedStatistic(items_base=frozenset({'Bread', 'Milk', 'Chips'}), items_add=frozenset({'Apple', 'Wine'}), confidence=0.7142857142857143, lift=1.4285714285714286), OrderedStatistic(items_base=frozenset({'Wine', 'Bread', 'Chips'}), items_add=frozenset({'Apple', 'Milk'}), confidence=0.7142857142857143, lift=1.4285714285714286), OrderedStatistic(items_base=frozenset({'Apple', 'Wine', 'Chips', 'Milk'}), items_add=frozenset({'Bread'}), confidence=1.0, lift=1.375), OrderedStatistic(items_base=frozenset({'Wine', 'Bread', 'Milk', 'Chips'}), items_add=frozenset({'Apple'}), confidence=0.8333333333333334, lift=1.2222222222222223)]), RelationRecord(items=frozenset({'Apple', 'Bread', 'nan', 'Wine', 'Chips'}), support=0.09090909090909091, ordered_statistics=[OrderedStatistic(items_base=frozenset({'Bread'}), items_add=frozenset({'Apple', 'Wine', 'Chips', 'nan'}), confidence=0.125, lift=1.375), OrderedStatistic(items_base=frozenset({'Apple', 'Wine', 'Chips', 'nan'}), items_add=frozenset({'Bread'}), confidence=1.0, lift=1.375)]), RelationRecord(items=frozenset({'Apple', 'Butter', 'Milk', 'Wine', 'Chips'}), support=0.18181818181818182, ordered_statistics=[OrderedStatistic(items_base=frozenset({'Apple', 'Milk'}), items_add=frozenset({'Butter', 'Wine', 'Chips'}), confidence=0.36363636363636365, lift=1.3333333333333335), OrderedStatistic(items_base=frozenset({'Butter', 'Wine', 'Chips'}), items_add=frozenset({'Apple', 'Milk'}), confidence=0.6666666666666667, lift=1.3333333333333335)]), RelationRecord(items=frozenset({'Bread', 'Butter', 'Milk', 'Wine', 'Chips'}), support=0.22727272727272727, ordered_statistics=[OrderedStatistic(items_base=frozenset({'Bread'}), items_add=frozenset({'Butter', 'Wine', 'Chips', 'Milk'}), confidence=0.3125, lift=1.375), OrderedStatistic(items_base=frozenset({'Butter'}), items_add=frozenset({'Wine', 'Bread', 'Milk', 'Chips'}), confidence=0.33333333333333337, lift=1.2222222222222225), OrderedStatistic(items_base=frozenset({'Bread', 'Chips'}), items_add=frozenset({'Butter', 'Wine', 'Milk'}), confidence=0.5555555555555555, lift=1.222222222222222), OrderedStatistic(items_base=frozenset({'Bread', 'Milk'}), items_add=frozenset({'Butter', 'Wine', 'Chips'}), confidence=0.3846153846153846, lift=1.4102564102564101), OrderedStatistic(items_base=frozenset({'Wine', 'Bread'}), items_add=frozenset({'Butter', 'Chips', 'Milk'}), confidence=0.3846153846153846, lift=1.2087912087912087), OrderedStatistic(items_base=frozenset({'Butter', 'Milk'}), items_add=frozenset({'Wine', 'Bread', 'Chips'}), confidence=0.3846153846153846, lift=1.2087912087912087), OrderedStatistic(items_base=frozenset({'Butter', 'Wine'}), items_add=frozenset({'Bread', 'Milk', 'Chips'}), confidence=0.45454545454545453, lift=1.4285714285714286), OrderedStatistic(items_base=frozenset({'Bread', 'Milk', 'Chips'}), items_add=frozenset({'Butter', 'Wine'}), confidence=0.7142857142857143, lift=1.4285714285714286), OrderedStatistic(items_base=frozenset({'Wine', 'Bread', 'Chips'}), items_add=frozenset({'Butter', 'Milk'}), confidence=0.7142857142857143, lift=1.2087912087912087), OrderedStatistic(items_base=frozenset({'Butter', 'Chips', 'Milk'}), items_add=frozenset({'Wine', 'Bread'}), confidence=0.7142857142857143, lift=1.2087912087912087), OrderedStatistic(items_base=frozenset({'Butter', 'Wine', 'Chips'}), items_add=frozenset({'Bread', 'Milk'}), confidence=0.8333333333333334, lift=1.4102564102564104), OrderedStatistic(items_base=frozenset({'Butter', 'Wine', 'Milk'}), items_add=frozenset({'Bread', 'Chips'}), confidence=0.5, lift=1.222222222222222), OrderedStatistic(items_base=frozenset({'Wine', 'Bread', 'Milk', 'Chips'}), items_add=frozenset({'Butter'}), confidence=0.8333333333333334, lift=1.2222222222222223), OrderedStatistic(items_base=frozenset({'Butter', 'Wine', 'Chips', 'Milk'}), items_add=frozenset({'Bread'}), confidence=1.0, lift=1.375)]), RelationRecord(items=frozenset({'Bread', 'nan', 'Butter', 'Wine', 'Chips'}), support=0.09090909090909091, ordered_statistics=[OrderedStatistic(items_base=frozenset({'Bread'}), items_add=frozenset({'Butter', 'Wine', 'Chips', 'nan'}), confidence=0.125, lift=1.375), OrderedStatistic(items_base=frozenset({'Butter', 'Wine', 'Chips', 'nan'}), items_add=frozenset({'Bread'}), confidence=1.0, lift=1.375)]), RelationRecord(items=frozenset({'Bread', 'nan', 'Butter', 'Milk', 'Wine'}), support=0.22727272727272727, ordered_statistics=[OrderedStatistic(items_base=frozenset({'Bread', 'Milk'}), items_add=frozenset({'Butter', 'Wine', 'nan'}), confidence=0.3846153846153846, lift=1.2087912087912087), OrderedStatistic(items_base=frozenset({'Butter', 'Wine', 'nan'}), items_add=frozenset({'Bread', 'Milk'}), confidence=0.7142857142857143, lift=1.2087912087912087)]), RelationRecord(items=frozenset({'Apple', 'Bread', 'Butter', 'Milk', 'Wine', 'Chips'}), support=0.18181818181818182, ordered_statistics=[OrderedStatistic(items_base=frozenset({'Bread'}), items_add=frozenset({'Apple', 'Butter', 'Milk', 'Wine', 'Chips'}), confidence=0.25, lift=1.375), OrderedStatistic(items_base=frozenset({'Apple', 'Bread'}), items_add=frozenset({'Butter', 'Wine', 'Chips', 'Milk'}), confidence=0.33333333333333337, lift=1.4666666666666668), OrderedStatistic(items_base=frozenset({'Apple', 'Butter'}), items_add=frozenset({'Wine', 'Bread', 'Milk', 'Chips'}), confidence=0.36363636363636365, lift=1.3333333333333335), OrderedStatistic(items_base=frozenset({'Apple', 'Milk'}), items_add=frozenset({'Butter', 'Wine', 'Bread', 'Chips'}), confidence=0.36363636363636365, lift=1.3333333333333335), OrderedStatistic(items_base=frozenset({'Apple', 'Wine'}), items_add=frozenset({'Butter', 'Bread', 'Milk', 'Chips'}), confidence=0.36363636363636365, lift=1.3333333333333335), OrderedStatistic(items_base=frozenset({'Butter', 'Bread'}), items_add=frozenset({'Apple', 'Wine', 'Chips', 'Milk'}), confidence=0.3076923076923077, lift=1.353846153846154), OrderedStatistic(items_base=frozenset({'Bread', 'Chips'}), items_add=frozenset({'Apple', 'Wine', 'Butter', 'Milk'}), confidence=0.4444444444444444, lift=1.3968253968253967), OrderedStatistic(items_base=frozenset({'Bread', 'Milk'}), items_add=frozenset({'Apple', 'Wine', 'Chips', 'Butter'}), confidence=0.3076923076923077, lift=1.353846153846154), OrderedStatistic(items_base=frozenset({'Butter', 'Chips'}), items_add=frozenset({'Apple', 'Wine', 'Bread', 'Milk'}), confidence=0.4444444444444444, lift=1.222222222222222), OrderedStatistic(items_base=frozenset({'Butter', 'Wine'}), items_add=frozenset({'Apple', 'Bread', 'Milk', 'Chips'}), confidence=0.36363636363636365, lift=1.3333333333333335), OrderedStatistic(items_base=frozenset({'Chips', 'Milk'}), items_add=frozenset({'Apple', 'Wine', 'Bread', 'Butter'}), confidence=0.4, lift=1.2571428571428573), OrderedStatistic(items_base=frozenset({'Wine', 'Chips'}), items_add=frozenset({'Apple', 'Bread', 'Butter', 'Milk'}), confidence=0.4444444444444444, lift=1.3968253968253967), OrderedStatistic(items_base=frozenset({'Apple', 'Bread', 'Butter'}), items_add=frozenset({'Wine', 'Chips', 'Milk'}), confidence=0.4444444444444444, lift=1.222222222222222), OrderedStatistic(items_base=frozenset({'Apple', 'Bread', 'Milk'}), items_add=frozenset({'Butter', 'Wine', 'Chips'}), confidence=0.4444444444444444, lift=1.6296296296296298), OrderedStatistic(items_base=frozenset({'Apple', 'Wine', 'Bread'}), items_add=frozenset({'Butter', 'Chips', 'Milk'}), confidence=0.4, lift=1.2571428571428573), OrderedStatistic(items_base=frozenset({'Apple', 'Butter', 'Milk'}), items_add=frozenset({'Wine', 'Bread', 'Chips'}), confidence=0.4444444444444444, lift=1.3968253968253967), OrderedStatistic(items_base=frozenset({'Apple', 'Wine', 'Butter'}), items_add=frozenset({'Bread', 'Milk', 'Chips'}), confidence=0.5, lift=1.5714285714285714), OrderedStatistic(items_base=frozenset({'Apple', 'Chips', 'Milk'}), items_add=frozenset({'Butter', 'Wine', 'Bread'}), confidence=0.5714285714285715, lift=1.2571428571428573), OrderedStatistic(items_base=frozenset({'Apple', 'Wine', 'Chips'}), items_add=frozenset({'Butter', 'Bread', 'Milk'}), confidence=0.6666666666666667, lift=1.3333333333333335), OrderedStatistic(items_base=frozenset({'Apple', 'Wine', 'Milk'}), items_add=frozenset({'Butter', 'Bread', 'Chips'}), confidence=0.4444444444444444, lift=1.222222222222222), OrderedStatistic(items_base=frozenset({'Butter', 'Bread', 'Chips'}), items_add=frozenset({'Apple', 'Wine', 'Milk'}), confidence=0.5, lift=1.222222222222222), OrderedStatistic(items_base=frozenset({'Butter', 'Bread', 'Milk'}), items_add=frozenset({'Apple', 'Wine', 'Chips'}), confidence=0.36363636363636365, lift=1.3333333333333335), OrderedStatistic(items_base=frozenset({'Butter', 'Wine', 'Bread'}), items_add=frozenset({'Apple', 'Chips', 'Milk'}), confidence=0.4, lift=1.2571428571428573), OrderedStatistic(items_base=frozenset({'Bread', 'Milk', 'Chips'}), items_add=frozenset({'Apple', 'Wine', 'Butter'}), confidence=0.5714285714285715, lift=1.5714285714285716), OrderedStatistic(items_base=frozenset({'Wine', 'Bread', 'Chips'}), items_add=frozenset({'Apple', 'Butter', 'Milk'}), confidence=0.5714285714285715, lift=1.396825396825397), OrderedStatistic(items_base=frozenset({'Butter', 'Chips', 'Milk'}), items_add=frozenset({'Apple', 'Wine', 'Bread'}), confidence=0.5714285714285715, lift=1.2571428571428573), OrderedStatistic(items_base=frozenset({'Butter', 'Wine', 'Chips'}), items_add=frozenset({'Apple', 'Bread', 'Milk'}), confidence=0.6666666666666667, lift=1.6296296296296298), OrderedStatistic(items_base=frozenset({'Wine', 'Chips', 'Milk'}), items_add=frozenset({'Apple', 'Bread', 'Butter'}), confidence=0.5, lift=1.222222222222222), OrderedStatistic(items_base=frozenset({'Apple', 'Bread', 'Butter', 'Milk'}), items_add=frozenset({'Wine', 'Chips'}), confidence=0.5714285714285715, lift=1.396825396825397), OrderedStatistic(items_base=frozenset({'Apple', 'Wine', 'Bread', 'Butter'}), items_add=frozenset({'Chips', 'Milk'}), confidence=0.5714285714285715, lift=1.2571428571428573), OrderedStatistic(items_base=frozenset({'Apple', 'Bread', 'Milk', 'Chips'}), items_add=frozenset({'Butter', 'Wine'}), confidence=0.6666666666666667, lift=1.3333333333333335), OrderedStatistic(items_base=frozenset({'Apple', 'Wine', 'Bread', 'Milk'}), items_add=frozenset({'Butter', 'Chips'}), confidence=0.5, lift=1.222222222222222), OrderedStatistic(items_base=frozenset({'Apple', 'Wine', 'Chips', 'Butter'}), items_add=frozenset({'Bread', 'Milk'}), confidence=0.8, lift=1.353846153846154), OrderedStatistic(items_base=frozenset({'Apple', 'Wine', 'Butter', 'Milk'}), items_add=frozenset({'Bread', 'Chips'}), confidence=0.5714285714285715, lift=1.396825396825397), OrderedStatistic(items_base=frozenset({'Apple', 'Wine', 'Chips', 'Milk'}), items_add=frozenset({'Butter', 'Bread'}), confidence=0.8, lift=1.353846153846154), OrderedStatistic(items_base=frozenset({'Butter', 'Bread', 'Milk', 'Chips'}), items_add=frozenset({'Apple', 'Wine'}), confidence=0.6666666666666667, lift=1.3333333333333335), OrderedStatistic(items_base=frozenset({'Butter', 'Wine', 'Bread', 'Chips'}), items_add=frozenset({'Apple', 'Milk'}), confidence=0.6666666666666667, lift=1.3333333333333335), OrderedStatistic(items_base=frozenset({'Wine', 'Bread', 'Milk', 'Chips'}), items_add=frozenset({'Apple', 'Butter'}), confidence=0.6666666666666667, lift=1.3333333333333335), OrderedStatistic(items_base=frozenset({'Butter', 'Wine', 'Chips', 'Milk'}), items_add=frozenset({'Apple', 'Bread'}), confidence=0.8, lift=1.4666666666666668), OrderedStatistic(items_base=frozenset({'Apple', 'Butter', 'Milk', 'Wine', 'Chips'}), items_add=frozenset({'Bread'}), confidence=1.0, lift=1.375)])]\n"
     ]
    }
   ],
   "source": [
    "association_rule=list(association_rule)\n",
    "print(association_rule)"
   ]
  },
  {
   "cell_type": "code",
   "execution_count": null,
   "id": "ed092227",
   "metadata": {},
   "outputs": [],
   "source": []
  }
 ],
 "metadata": {
  "kernelspec": {
   "display_name": "Python 3",
   "language": "python",
   "name": "python3"
  },
  "language_info": {
   "codemirror_mode": {
    "name": "ipython",
    "version": 3
   },
   "file_extension": ".py",
   "mimetype": "text/x-python",
   "name": "python",
   "nbconvert_exporter": "python",
   "pygments_lexer": "ipython3",
   "version": "3.11.9"
  }
 },
 "nbformat": 4,
 "nbformat_minor": 5
}
