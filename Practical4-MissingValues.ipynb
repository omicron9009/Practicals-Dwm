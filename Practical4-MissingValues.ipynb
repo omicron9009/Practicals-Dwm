{
 "cells": [
  {
   "cell_type": "code",
   "execution_count": 1,
   "id": "13662cec",
   "metadata": {},
   "outputs": [],
   "source": [
    "#Practical 4 \n",
    "import pandas as pd \n",
    "import numpy as np "
   ]
  },
  {
   "cell_type": "code",
   "execution_count": 14,
   "id": "cd16eb2a",
   "metadata": {},
   "outputs": [],
   "source": [
    "data=pd.read_csv(\"Employee_Data.csv\")"
   ]
  },
  {
   "cell_type": "code",
   "execution_count": 16,
   "id": "050ccf46",
   "metadata": {},
   "outputs": [
    {
     "data": {
      "text/plain": [
       "Employee Id     0\n",
       "First Name      0\n",
       "Last Name       0\n",
       "Department      9\n",
       "Age             6\n",
       "Experience     13\n",
       "Salary          0\n",
       "dtype: int64"
      ]
     },
     "execution_count": 16,
     "metadata": {},
     "output_type": "execute_result"
    }
   ],
   "source": [
    "data.isnull().sum()"
   ]
  },
  {
   "cell_type": "code",
   "execution_count": 17,
   "id": "a8481e50",
   "metadata": {},
   "outputs": [],
   "source": [
    "x=data.iloc[:,3:6].values"
   ]
  },
  {
   "cell_type": "code",
   "execution_count": null,
   "id": "a9151ddd",
   "metadata": {},
   "outputs": [],
   "source": [
    "from sklearn.impute import SimpleImputer\n",
    "imputer= SimpleImputer(missing_values='NaN',strategy='median')\n",
    "imputer = SimpleImputer().fit(x[:,1:3])\n",
    "x[:,1:3]=imputer.transform(x[:,1:3])\n",
    "print(x)"
   ]
  },
  {
   "cell_type": "code",
   "execution_count": null,
   "id": "27e3f7ad",
   "metadata": {},
   "outputs": [],
   "source": [
    "from sklearn.impute import SimpleImputer\n",
    "imputer= SimpleImputer(missing_values='NaN',strategy='most_frequent')\n",
    "imputer=SimpleImputer().fit(x[:,1:3])\n",
    "x[:,1:3]=imputer.transform(x[:,1:3])\n",
    "print(x)"
   ]
  }
 ],
 "metadata": {
  "kernelspec": {
   "display_name": "Python 3",
   "language": "python",
   "name": "python3"
  },
  "language_info": {
   "codemirror_mode": {
    "name": "ipython",
    "version": 3
   },
   "file_extension": ".py",
   "mimetype": "text/x-python",
   "name": "python",
   "nbconvert_exporter": "python",
   "pygments_lexer": "ipython3",
   "version": "3.11.9"
  }
 },
 "nbformat": 4,
 "nbformat_minor": 5
}
